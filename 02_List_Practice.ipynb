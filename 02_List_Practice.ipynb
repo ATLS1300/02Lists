{
 "cells": [
  {
   "cell_type": "markdown",
   "metadata": {},
   "source": [
    "## ['We', 'are', 'learning', 'about', 'lists', 'today!']"
   ]
  },
  {
   "cell_type": "markdown",
   "metadata": {},
   "source": [
    "A list is a kind of _data structure_. Basically, this means that it organizes a bunch of things into a single thing.\n",
    "<br><i>(Remember, you can use SHIFT+ENTER to run the code and/or proceed to the next cell.)</i>"
   ]
  },
  {
   "cell_type": "markdown",
   "metadata": {},
   "source": [
    "## Part I"
   ]
  },
  {
   "cell_type": "markdown",
   "metadata": {},
   "source": [
    "1. Can you make a list called `alist` by typing a bunch of **strings** inside square brackets (`[]`), and placing a comma after each string?"
   ]
  },
  {
   "cell_type": "code",
   "execution_count": null,
   "metadata": {},
   "outputs": [],
   "source": [
    "# Remember variables? \n",
    "# Hint: alist = ..."
   ]
  },
  {
   "cell_type": "markdown",
   "metadata": {},
   "source": [
    "2. Now, create a list called `rainbow` by typing strings of the color names of the rainbow (in order, ROYGBIV) inside square brackets, just like in the title above."
   ]
  },
  {
   "cell_type": "code",
   "execution_count": null,
   "metadata": {},
   "outputs": [],
   "source": []
  },
  {
   "cell_type": "markdown",
   "metadata": {},
   "source": [
    "3. If you already know where something is in a list, you can grab it! For example, this code will print the 1st color of the rainbow:"
   ]
  },
  {
   "cell_type": "code",
   "execution_count": null,
   "metadata": {},
   "outputs": [],
   "source": [
    "print(rainbow[0])"
   ]
  },
  {
   "cell_type": "markdown",
   "metadata": {},
   "source": [
    "This code uses an <b>index</b> to access the value stored at that location. As you might have noticed, the <b>list index</b> starts at 0.\n",
    "\n",
    "So `0` grabs the 1st thing, `1` grabs the 2nd thing, etc.\n",
    "\n",
    "(It's tricky, but you'll get used to it!)"
   ]
  },
  {
   "cell_type": "markdown",
   "metadata": {},
   "source": [
    "4. Now try accessing the value 'violet'. <br>a. Create a variable that contains the value 'violet' by <b>indexing the list</b> `rainbow` <br>b. Print that variable's value"
   ]
  },
  {
   "cell_type": "markdown",
   "metadata": {},
   "source": []
  },
  {
   "cell_type": "markdown",
   "metadata": {},
   "source": [
    "## Part II"
   ]
  },
  {
   "cell_type": "markdown",
   "metadata": {},
   "source": [
    "There is another way you can grab the last thing in a list. Have one person in your group  Google <i>__\"Getting the last element of a list\"__</i>. They should describe what they see (don't share screens).\n",
    "\n",
    "5. Using your Google search, can you access the value 'violet' with the new way?"
   ]
  },
  {
   "cell_type": "code",
   "execution_count": null,
   "metadata": {},
   "outputs": [],
   "source": []
  },
  {
   "cell_type": "markdown",
   "metadata": {},
   "source": [
    "Notice that, when you start from the right, the <b>index</b> starts at `-1`, not `0`. <br>That's because there is no such thing as `-0`, and Python needs a unique way of knowing that you're accessing the list from the righthand side."
   ]
  },
  {
   "cell_type": "markdown",
   "metadata": {},
   "source": [
    "There is a Python function (like `print`) called `reverse` which will... well, reverse a list.\n",
    "\n",
    "6. Reverse your rainbow, and save the outcome of the function to a variable called `rainbow_backwards`:"
   ]
  },
  {
   "cell_type": "code",
   "execution_count": null,
   "metadata": {},
   "outputs": [],
   "source": []
  },
  {
   "cell_type": "markdown",
   "metadata": {},
   "source": [
    "7. From your reversed rainbow, can you print the value 'violet' again?"
   ]
  },
  {
   "cell_type": "code",
   "execution_count": null,
   "metadata": {},
   "outputs": [],
   "source": []
  },
  {
   "cell_type": "markdown",
   "metadata": {},
   "source": [
    "## Part III"
   ]
  },
  {
   "cell_type": "markdown",
   "metadata": {},
   "source": [
    "Now `for` some fun!\n",
    "\n",
    "8. Run the following `turtle` graphics code:"
   ]
  },
  {
   "cell_type": "code",
   "execution_count": null,
   "metadata": {
    "scrolled": true
   },
   "outputs": [],
   "source": [
    "from turtle import *\n",
    "colormode(255)\n",
    "panel = Screen()\n",
    "w = 400\n",
    "h = 400\n",
    "panel.setup(width=w, height=h) \n",
    "\n",
    "for color in rainbow_backwards:\n",
    "    fillcolor(color)\n",
    "    begin_fill()\n",
    "    circle(80)\n",
    "    end_fill()"
   ]
  },
  {
   "cell_type": "markdown",
   "metadata": {},
   "source": [
    "9. You and your group should come up with an explanation for what `for color in rainbow_backwards:` did."
   ]
  },
  {
   "cell_type": "markdown",
   "metadata": {},
   "source": [
    "We'll learn more about `for loops` on Thursday, but feel free to <i>TRY IT!</i> \n",
    "<br>In just 2 lines of code, print the color names of the rainbow:"
   ]
  },
  {
   "cell_type": "code",
   "execution_count": null,
   "metadata": {},
   "outputs": [],
   "source": []
  }
 ],
 "metadata": {
  "kernelspec": {
   "display_name": "Python 3",
   "language": "python",
   "name": "python3"
  },
  "language_info": {
   "codemirror_mode": {
    "name": "ipython",
    "version": 3
   },
   "file_extension": ".py",
   "mimetype": "text/x-python",
   "name": "python",
   "nbconvert_exporter": "python",
   "pygments_lexer": "ipython3",
   "version": "3.8.3"
  }
 },
 "nbformat": 4,
 "nbformat_minor": 4
}
